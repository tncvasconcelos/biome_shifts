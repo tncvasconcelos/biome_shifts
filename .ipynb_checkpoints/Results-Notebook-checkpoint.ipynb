{
 "cells": [
  {
   "cell_type": "markdown",
   "id": "a3a7cf41-529b-43a9-93ce-204d826f91bc",
   "metadata": {},
   "source": [
    "# Biome shifts results"
   ]
  },
  {
   "cell_type": "markdown",
   "id": "43e40cfc-0c7e-4d8a-a545-d615e6c2cb28",
   "metadata": {},
   "source": [
    "This notebook will go through the code necessary to produce figures and results of the biome shifts project. Our primary hypothesis is that rates of character evolution will correlate with rates of turnover (speciation + extinction). We test this looking at transitions between open and closed habitat across several clades of angiosperms. The reasoning for this hypothesis will not be explored here. Instead, we will simply replicate the results and describe the functions being used. "
   ]
  },
  {
   "cell_type": "code",
   "execution_count": 1,
   "id": "4a5a36dc-5924-4c51-8608-a4558a09eb0f",
   "metadata": {},
   "outputs": [],
   "source": [
    "# ignore this code, this is because my R environments for jupyter differ from rstudio\n",
    ".libPaths(\n",
    "  c(.libPaths(), \n",
    "    \"/home/jboyko/R/x86_64-pc-linux-gnu-library/4.1\",\n",
    "    \"/usr/local/lib/R/site-library\", \n",
    "    \"/usr/lib/R/site-library\",\n",
    "    \"/usr/lib/R/library\")\n",
    ")"
   ]
  },
  {
   "cell_type": "code",
   "execution_count": 28,
   "id": "6f65c8ee-a47d-40a5-90b8-784466990f6e",
   "metadata": {},
   "outputs": [],
   "source": [
    "setwd(\"~/biome_shifts/\")\n",
    "library(ape)\n",
    "library(hisse)\n",
    "library(parallel)\n",
    "library(partitions)\n",
    "library(ggplot2)\n",
    "library(dplyr)\n",
    "library(tidyr)\n",
    "source(\"utils.R\")"
   ]
  },
  {
   "cell_type": "markdown",
   "id": "51da252c-36e9-4e18-b62e-7b93fe7369a8",
   "metadata": {},
   "source": [
    "## Model description"
   ]
  },
  {
   "cell_type": "markdown",
   "id": "ff1a61f6-9ec4-4679-94e8-e45bcc7841f6",
   "metadata": {},
   "source": [
    "The models are broadly partitioned into character-dependent and character-independent models. These models can include hidden states or not. There are 3 types of parameter for which we are concerned, extinction fraction, turnover, and transition rates. These parameters are allowed to vary or can be fixed to remain the same."
   ]
  },
  {
   "cell_type": "markdown",
   "id": "b4a210a9-1dee-411c-9f82-ebae7a348147",
   "metadata": {},
   "source": [
    "### Transition rates"
   ]
  },
  {
   "cell_type": "markdown",
   "id": "d7741d33-03d7-4a70-a29c-f3b706425526",
   "metadata": {},
   "source": [
    "We have 3 states, open habitat $(0,0)$, closed habitat $(1,1)$, widespread $(0,1)$. We structure our model so that no mateter what transitions must occur through the widespread habitat. That is to say: \n",
    "$$(0,0)\\rightleftarrows(0,1)\\rightleftarrows(1,1)$$. \n",
    "This is our basic model structure and all parameters will be estiamted freely. The only other factor to consider is whether hidden states are included. To include hidden states, as is necessary for our hypothesis, we add another rate class (A and B): \n",
    "$$\\left[(0,0;A)\\rightleftarrows(0,1;A)\\rightleftarrows(1,1; A)\\right] \\rightleftarrows \\left[(0,0;B)\\rightleftarrows(0,1;B)\\rightleftarrows(1,1; B)\\right]$$\n",
    "Now we have transitions between open, closed, and widespread occuring either in rate class A or rate class B. This forms the basis for how we will test our hypothesis. We are interested in whether there are differences in transition rates between rate classes. AND IF THERE ARE, do those differences tend to correlate with differences in diversification rates. Specifically, if rate class $A$ is faster than $B$, are the diversification dynamics of $A$ also greater than $B$ as expected by our hypothesis? We include a pair of null models to ensure we are not biased to finding support for a difference in transition rates when there is none. This is demonstrated by which parameters are freely estimated. We will include a model that does not have hidden states and two that include hidden states. Of the two that include hidden states, only one will allow for differences in transition rates. Paramerizations look like this):"
   ]
  },
  {
   "cell_type": "code",
   "execution_count": 7,
   "id": "6249c57e-5173-49e8-a088-de7486d940b5",
   "metadata": {},
   "outputs": [
    {
     "name": "stdout",
     "output_type": "stream",
     "text": [
      "[1] \"Q1\"\n",
      "     (00) (01) (10) (11)\n",
      "(00)   NA    2    0    0\n",
      "(01)    1   NA    0    4\n",
      "(10)    0    0   NA    0\n",
      "(11)    0    3    0   NA\n",
      "[1] \"Q2\"\n",
      "      (00A) (01A) (10A) (11A) (00B) (01B) (10B) (11B)\n",
      "(00A)    NA     2     0     0     5     0     0     0\n",
      "(01A)     1    NA     0     4     0     5     0     0\n",
      "(10A)     0     0    NA     0     0     0     5     0\n",
      "(11A)     0     3     0    NA     0     0     0     5\n",
      "(00B)     5     0     0     0    NA     2     0     0\n",
      "(01B)     0     5     0     0     1    NA     0     4\n",
      "(10B)     0     0     5     0     0     0    NA     0\n",
      "(11B)     0     0     0     5     0     3     0    NA\n",
      "[1] \"Q3\"\n",
      "      (00A) (01A) (10A) (11A) (00B) (01B) (10B) (11B)\n",
      "(00A)    NA     2     0     0     9     0     0     0\n",
      "(01A)     1    NA     0     4     0     9     0     0\n",
      "(10A)     0     0    NA     0     0     0     9     0\n",
      "(11A)     0     3     0    NA     0     0     0     9\n",
      "(00B)     9     0     0     0    NA     6     0     0\n",
      "(01B)     0     9     0     0     5    NA     0     8\n",
      "(10B)     0     0     9     0     0     0    NA     0\n",
      "(11B)     0     0     0     9     0     7     0    NA\n"
     ]
    }
   ],
   "source": [
    "# make the q_mats\n",
    "# one rate class\n",
    "trans.rate <- TransMatMakerMuHiSSE(hidden.traits=0, make.null = TRUE)\n",
    "trans_rate_1 <- ParDrop(trans.rate, c(2,5,6,8))\n",
    "# two rate classes\n",
    "trans.rate <- TransMatMakerMuHiSSE(hidden.traits=1, make.null = FALSE)\n",
    "trans_rate_2cd <- ParDrop(trans.rate, c(2,5,6,8,10,13,14,16))\n",
    "trans.rate <- TransMatMakerMuHiSSE(hidden.traits=1, make.null = TRUE)\n",
    "trans_rate_2cid <- ParDrop(trans.rate, c(2,5,6,8))\n",
    "trans_rate_2 <- list(trans_rate_2cid, trans_rate_2cd)\n",
    "print(\"Q1\")\n",
    "print(trans_rate_1)\n",
    "print(\"Q2\")\n",
    "print(trans_rate_2cid)\n",
    "print(\"Q3\")\n",
    "print(trans_rate_2cd)"
   ]
  },
  {
   "cell_type": "markdown",
   "id": "44173c42-aaff-4a6f-9b0a-378e10459645",
   "metadata": {},
   "source": [
    "### Extinction fraction and turnover"
   ]
  },
  {
   "cell_type": "markdown",
   "id": "16c11de9-f453-4b99-8bd5-46b7fd0d4bcb",
   "metadata": {},
   "source": [
    "The set of models being estimated for fraction and turnover are similar in spirit to the transition rate estimation. Here we will talk directly about which parameters are being estimated. For a single rate class model with 3 observed characters $(0,0), (0,1), (1,1)$ we estimate either all being parameters being equal $par_{free} = (1,1,1)$ or all being different $par_{free} = 1,2,3$. And this can be different for our extinction fraction estimate or turnover. For example, we can have turnover be estimated as constrained while fraction is estimated freely for each observed character:\n",
    "$$turn_{free} = (1,1,1); ef_{free} = (1,2,3)$$\n",
    "Another way of saying this is that turnover is character independent (the rates do not depend on which observed state you are in) while extinction fraction is character dependent (the fraction estimate varies depending on which observed state you are in). So if you are in an open habitat, your extinction fraction may be lower or higher than if you wide-spread. We test all possible combinations of this. \n",
    "\n",
    "Now let's add hidden states. Essentially we take the above type of thinking and expand it to include multiple rate classes. We can have character dependence in both rate classes, in no rate classes, or in one rate class and not the other. These all have different interpretations depending on the model strucutre. For example, a character independent model with rate heterogenity would look like this:\n",
    "$$turn_{free} = (1,1,1,2,2,2); ef_{free} = (3,3,3,4,4,4)$$\n",
    "The first 3 parameters in each vector refer to rate class $A$ and the last 3 refer to rate class $B$. What's important to note is that within each rate class, there is no variation allowed (hence character independent). So whether you are open, closed, or widespread under this framework will have no impact on your diversification dynamics. The diversification dynamics are entirely linked to your rate class. This has typically been discussed as a null hypothesis, but I (JDB) believe that this is a potentially interesting and insightful modeling result. Indeed, our hypothesis is that in cases such as this \"null\", the rate class with higher turnover rates will also have higher transition rates. This hypothesis cares not for whether the model supports character dependence or independence, it's a direct examinaton of the model parameters."
   ]
  },
  {
   "cell_type": "code",
   "execution_count": 15,
   "id": "4eeeb5a4-0f92-44d8-ad7d-04b24edd7ffd",
   "metadata": {},
   "outputs": [
    {
     "name": "stdout",
     "output_type": "stream",
     "text": [
      "[1] \"possible extinction fractions parameterizations - 1 rate class\"\n",
      "[[1]]\n",
      "[1] 1 1 0 1\n",
      "\n",
      "[[2]]\n",
      "[1] 1 2 0 3\n",
      "\n",
      "[1] \"possible turnover parameterizations - 1 rate class\"\n",
      "[[1]]\n",
      "[1] 1 1 0 1\n",
      "\n",
      "[[2]]\n",
      "[1] 1 2 0 3\n",
      "\n",
      "[1] \"possible extinction fractions parameterizations - 2 rate class\"\n",
      "[[1]]\n",
      "[1] 1 1 0 1 1 1 0 1\n",
      "\n",
      "[[2]]\n",
      "[1] 1 2 0 3 1 2 0 3\n",
      "\n",
      "[[3]]\n",
      "[1] 1 1 0 1 2 2 0 2\n",
      "\n",
      "[[4]]\n",
      "[1] 1 2 0 3 4 5 0 6\n",
      "\n",
      "[1] \"possible turnover parameterizations - 2 rate class\"\n",
      "[[1]]\n",
      "[1] 1 1 0 1 1 1 0 1\n",
      "\n",
      "[[2]]\n",
      "[1] 1 2 0 3 1 2 0 3\n",
      "\n",
      "[[3]]\n",
      "[1] 1 1 0 1 2 2 0 2\n",
      "\n",
      "[[4]]\n",
      "[1] 1 2 0 3 4 5 0 6\n",
      "\n"
     ]
    }
   ],
   "source": [
    "# single rate class models\n",
    "ef_1 <- list(c(1,1,0,1),\n",
    "           c(1,2,0,3))\n",
    "turn_1 <- list(c(1,1,0,1),\n",
    "             c(1,2,0,3))\n",
    "\n",
    "index_1 <- expand.grid(1:length(ef_1), 1:length(turn_1), 1, \"1R\")\n",
    "\n",
    "# two rate class models\n",
    "ef_2 <- list(c(1,1,0,1,1,1,0,1),\n",
    "             c(1,2,0,3,1,2,0,3),\n",
    "             c(1,1,0,1,2,2,0,2),\n",
    "             c(1,2,0,3,4,5,0,6))\n",
    "turn_2 <- list(c(1,1,0,1,1,1,0,1),\n",
    "               c(1,2,0,3,1,2,0,3),\n",
    "               c(1,1,0,1,2,2,0,2),\n",
    "               c(1,2,0,3,4,5,0,6))\n",
    "\n",
    "index_2 <- expand.grid(1:length(ef_2), 1:length(turn_2), 1:2, \"2R\")\n",
    "print(\"possible extinction fractions parameterizations - 1 rate class\")\n",
    "print(ef_1)\n",
    "print(\"possible turnover parameterizations - 1 rate class\")\n",
    "print(turn_1)\n",
    "print(\"possible extinction fractions parameterizations - 2 rate class\")\n",
    "print(ef_2)\n",
    "print(\"possible turnover parameterizations - 2 rate class\")\n",
    "print(turn_2)"
   ]
  },
  {
   "cell_type": "markdown",
   "id": "804e4e18-49bf-4ab1-b6f9-097f41b1e9be",
   "metadata": {},
   "source": [
    "## Modeling results"
   ]
  },
  {
   "cell_type": "markdown",
   "id": "e516fe88-4416-498d-a934-262153dfe4b0",
   "metadata": {},
   "source": [
    "I will not go into detail about the model fitting procedure, please refer to 05_run_muhisse for the full code. Instead I will examine the results themselves. Full scripts are (06_*, 07_*, 08_*) which describe in full detail (in code form) the other analyses as well these summarizations."
   ]
  },
  {
   "cell_type": "code",
   "execution_count": 25,
   "id": "d9d46295-d695-47d6-af57-0eacf1d72df4",
   "metadata": {},
   "outputs": [],
   "source": [
    "# load in the models\n",
    "to_load <- dir(\"5_results/\", full.names = TRUE)\n",
    "failed_load <- to_load[sapply(to_load, quick_check)]\n",
    "to_load <- to_load[!sapply(to_load, quick_check)]\n",
    "\n",
    "all_model_list <- list()\n",
    "for(i in 1:length(to_load)){\n",
    "  load(to_load[i])\n",
    "  all_model_list[[i]] <- res\n",
    "}"
   ]
  },
  {
   "cell_type": "markdown",
   "id": "be3f5867-c75e-4c21-96bc-e430764a685f",
   "metadata": {},
   "source": [
    "### Hypothesis testing via model support"
   ]
  },
  {
   "cell_type": "markdown",
   "id": "8a3d7169-ca51-491d-84bc-d1c54c28e164",
   "metadata": {},
   "source": [
    "Clades:\\\n",
    "Let $C$ be the set of clades under consideration.\n",
    "\n",
    "Models:\\\n",
    "We are considering 36 different models, denoted by $m = 1, 2, \\ldots, 36$.\n",
    "\n",
    "Variables for modeling results:\\\n",
    "- Hidden States: $hid_m$ is a binary variable that indicates whether hidden states are included in model $m$. $hid_m = 1$ if hidden states are included, $hid_m = 0$ otherwise.\n",
    "- Extinction Fraction: $eps_m$ is a binary variable that indicates whether there is a difference in extinction fraction in model $m$. $eps_m = 1$ if there is a difference, $eps_m = 0$ otherwise.\n",
    "- Turnover: $turn_m$ is a binary variable that indicates whether there is a difference in turnover in model $m$. $turn_m = 1$ if there is a difference, $turn_m = 0$ otherwise.\n",
    "- Transition Rates: $trans_m$ is a binary variable that indicates whether there is a difference in transition rates in model $m$. $trans_m = 1$ if there is a difference, $trans_m = 0$ otherwise.\n",
    "- Both Turnover and Transition Rates: $both_m$ is a binary variable that indicates whether there is a difference in both turnover and transition rates in model $m$. $both_m = 1$ if there is a difference, $both_m = 0$ otherwise.\n",
    "\n",
    "Index Matrix:\\\n",
    "For each model $m$, we create an index matrix $Ind_m$ with dimensions $36 \\times 5$ where the elements are either 0 or 1, representing whether the corresponding variables are included in the model. This matrix is defined as:\n",
    "$$\n",
    "Ind_m = \\begin{pmatrix}\n",
    "hid_m & epsm & turn_m & trans_m & both_m \\\\\n",
    "\\vdots & \\vdots & \\vdots & \\vdots & \\vdots & \\\\\n",
    "\\end{pmatrix}\n",
    "$$\n",
    "\n",
    "AIC Weights:\\\n",
    "Let $W$ be a table of AIC weights with 51 rows (one for each clade in $C$) and $m = 36$ columns (number of models). $W$ is a matrix of weights.\n",
    "\n",
    "Result Matrix:\\\n",
    "We multiply the index matrix $Ind_m$ for each model $m$ by the table of AIC weights $W$ to obtain a resulting matrix $Result$ with dimensions $51 \\times 5$ where each element represents the sum of model weight for supporting that particular alternative structure. This matrix is defined as:\n",
    "$$\n",
    "Result = \\begin{pmatrix}\n",
    "w_{1,1} & w_{1,2} & w_{1,3} & w_{1,4} & w_{1,5} \\\\\n",
    "w_{2,1} & w_{2,2} & w_{2,3} & w_{2,4} & w_{2,5} \\\\\n",
    "\\vdots & \\vdots & \\vdots & \\vdots & \\vdots \\\\\n",
    "w_{51,1} & w_{51,2} & w_{51,3} & w_{51,4} & w_{51,5} \\\\\n",
    "\\end{pmatrix}\n",
    "$$\n",
    "\n",
    "Where $w_{ij}$ represents the sum of model weights for supporting the $i$-th clade and the $j$-th alternative structure. Note that $w_{ij}$ is calculated as the dot product of the $i$-th row of $W$ and the $j$-th column of $Ind_m$.\n"
   ]
  },
  {
   "cell_type": "code",
   "execution_count": 38,
   "id": "4924af4f-bfc4-4e44-9c23-112370dc07f1",
   "metadata": {},
   "outputs": [
    {
     "data": {
      "text/html": [
       "<table class=\"dataframe\">\n",
       "<caption>A matrix: 6 × 5 of type dbl</caption>\n",
       "<thead>\n",
       "\t<tr><th></th><th scope=col>hidden_incl</th><th scope=col>eps_differ</th><th scope=col>turn_differ</th><th scope=col>trans_differ</th><th scope=col>both_differ</th></tr>\n",
       "</thead>\n",
       "<tbody>\n",
       "\t<tr><th scope=row>Allium (309)</th><td>0.9999811</td><td>9.182384e-01</td><td>0.9983330</td><td>0.22717791</td><td>0.225646787</td></tr>\n",
       "\t<tr><th scope=row>Alysseae (60)</th><td>0.4108631</td><td>1.149567e-01</td><td>0.1031750</td><td>0.01095342</td><td>0.004533091</td></tr>\n",
       "\t<tr><th scope=row>Anarcardiaceae (250)</th><td>0.9999190</td><td>1.928950e-02</td><td>0.9937156</td><td>0.82282799</td><td>0.817586966</td></tr>\n",
       "\t<tr><th scope=row>Annonaceae (188)</th><td>1.0000000</td><td>6.058675e-01</td><td>0.5773250</td><td>0.23709421</td><td>0.110610693</td></tr>\n",
       "\t<tr><th scope=row>Antirrhineae (191)</th><td>0.9999976</td><td>2.792860e-01</td><td>0.9734011</td><td>0.57721470</td><td>0.575358984</td></tr>\n",
       "\t<tr><th scope=row>Apioideae (847)</th><td>1.0000000</td><td>4.799396e-05</td><td>0.9999994</td><td>0.99999432</td><td>0.999993703</td></tr>\n",
       "</tbody>\n",
       "</table>\n"
      ],
      "text/latex": [
       "A matrix: 6 × 5 of type dbl\n",
       "\\begin{tabular}{r|lllll}\n",
       "  & hidden\\_incl & eps\\_differ & turn\\_differ & trans\\_differ & both\\_differ\\\\\n",
       "\\hline\n",
       "\tAllium (309) & 0.9999811 & 9.182384e-01 & 0.9983330 & 0.22717791 & 0.225646787\\\\\n",
       "\tAlysseae (60) & 0.4108631 & 1.149567e-01 & 0.1031750 & 0.01095342 & 0.004533091\\\\\n",
       "\tAnarcardiaceae (250) & 0.9999190 & 1.928950e-02 & 0.9937156 & 0.82282799 & 0.817586966\\\\\n",
       "\tAnnonaceae (188) & 1.0000000 & 6.058675e-01 & 0.5773250 & 0.23709421 & 0.110610693\\\\\n",
       "\tAntirrhineae (191) & 0.9999976 & 2.792860e-01 & 0.9734011 & 0.57721470 & 0.575358984\\\\\n",
       "\tApioideae (847) & 1.0000000 & 4.799396e-05 & 0.9999994 & 0.99999432 & 0.999993703\\\\\n",
       "\\end{tabular}\n"
      ],
      "text/markdown": [
       "\n",
       "A matrix: 6 × 5 of type dbl\n",
       "\n",
       "| <!--/--> | hidden_incl | eps_differ | turn_differ | trans_differ | both_differ |\n",
       "|---|---|---|---|---|---|\n",
       "| Allium (309) | 0.9999811 | 9.182384e-01 | 0.9983330 | 0.22717791 | 0.225646787 |\n",
       "| Alysseae (60) | 0.4108631 | 1.149567e-01 | 0.1031750 | 0.01095342 | 0.004533091 |\n",
       "| Anarcardiaceae (250) | 0.9999190 | 1.928950e-02 | 0.9937156 | 0.82282799 | 0.817586966 |\n",
       "| Annonaceae (188) | 1.0000000 | 6.058675e-01 | 0.5773250 | 0.23709421 | 0.110610693 |\n",
       "| Antirrhineae (191) | 0.9999976 | 2.792860e-01 | 0.9734011 | 0.57721470 | 0.575358984 |\n",
       "| Apioideae (847) | 1.0000000 | 4.799396e-05 | 0.9999994 | 0.99999432 | 0.999993703 |\n",
       "\n"
      ],
      "text/plain": [
       "                     hidden_incl eps_differ   turn_differ trans_differ\n",
       "Allium (309)         0.9999811   9.182384e-01 0.9983330   0.22717791  \n",
       "Alysseae (60)        0.4108631   1.149567e-01 0.1031750   0.01095342  \n",
       "Anarcardiaceae (250) 0.9999190   1.928950e-02 0.9937156   0.82282799  \n",
       "Annonaceae (188)     1.0000000   6.058675e-01 0.5773250   0.23709421  \n",
       "Antirrhineae (191)   0.9999976   2.792860e-01 0.9734011   0.57721470  \n",
       "Apioideae (847)      1.0000000   4.799396e-05 0.9999994   0.99999432  \n",
       "                     both_differ\n",
       "Allium (309)         0.225646787\n",
       "Alysseae (60)        0.004533091\n",
       "Anarcardiaceae (250) 0.817586966\n",
       "Annonaceae (188)     0.110610693\n",
       "Antirrhineae (191)   0.575358984\n",
       "Apioideae (847)      0.999993703"
      ]
     },
     "metadata": {},
     "output_type": "display_data"
    }
   ],
   "source": [
    "# some labeling\n",
    "n_tips <- unlist(lapply(all_model_list, function(x) Ntip(x[[1]]$phy)))\n",
    "clade_names <- unlist(lapply(strsplit(to_load, \"results_\"), function(x) gsub(\".RData\", \"\", x[2])))\n",
    "clade_names <- unlist(lapply(strsplit(clade_names, \"-\"), function(x) x[[1]]))\n",
    "clade_names <- unlist(lapply(strsplit(clade_names, \"_\"), function(x) x[[1]]))\n",
    "clade_names <- paste0(clade_names, \" (\", n_tips, \")\")\n",
    "# the calculation\n",
    "aic_table <- do.call(rbind, lapply(all_model_list, GetAICWeights))\n",
    "which_models <- do.call(rbind, lapply(all_model_list[[1]], test_hypotheses))\n",
    "result_matrix <- aic_table %*% which_models\n",
    "rownames(result_matrix) <- clade_names\n",
    "head(result_matrix)"
   ]
  },
  {
   "cell_type": "code",
   "execution_count": 36,
   "id": "627d5d27-a3a4-44c3-9572-e9481d527e1a",
   "metadata": {},
   "outputs": [
    {
     "data": {
      "text/html": [
       "<style>\n",
       ".list-inline {list-style: none; margin:0; padding: 0}\n",
       ".list-inline>li {display: inline-block}\n",
       ".list-inline>li:not(:last-child)::after {content: \"\\00b7\"; padding: 0 .5ex}\n",
       "</style>\n",
       "<ol class=list-inline><li>'Allium'</li><li>'Alysseae'</li><li>'Anarcardiaceae'</li><li>'Annonaceae'</li><li>'Antirrhineae'</li><li>'Apioideae'</li><li>'Apocynaceae'</li><li>'Arabideae'</li><li>'Araceae'</li><li>'Arecaceae'</li><li>'Begonia'</li><li>'Bignonieae'</li><li>'Bombacoideae'</li><li>'Bulbophyllum'</li><li>'Cardamineae'</li><li>'Carex'</li><li>'Chamaecrista'</li><li>'Chrysobalanaceae'</li><li>'Croton'</li><li>'Cyclanthaceae'</li><li>'Ericaceae'</li><li>'Erysimeae'</li><li>'Eucalypts'</li><li>'Fagales'</li><li>'Ficus'</li><li>'Hakea'</li><li>'Heliconia'</li><li>'Lecythidaceae'</li><li>'Lepidieae'</li><li>'Lobelioideae'</li><li>'Lupinus'</li><li>'Lysimachieae'</li><li>'Melastomataceae'</li><li>'Meliaceae'</li><li>'Mimosoids_Ringelberg_et_al_2023'</li><li>'Myrteae'</li><li>'Onagraceae'</li><li>'Paepalanthus'</li><li>'Poaceae'</li><li>'Primulaceae'</li><li>'Quercus'</li><li>'Restionaceae'</li><li>'Ruellia'</li><li>'Salvia'</li><li>'Solanaceae'</li><li>'Spermacoceae'</li><li>'Thelypodieae'</li><li>'Vanguerieae'</li><li>'Velloziaceae'</li><li>'Viburnum'</li><li>'Vrieseinae'</li></ol>\n"
      ],
      "text/latex": [
       "\\begin{enumerate*}\n",
       "\\item 'Allium'\n",
       "\\item 'Alysseae'\n",
       "\\item 'Anarcardiaceae'\n",
       "\\item 'Annonaceae'\n",
       "\\item 'Antirrhineae'\n",
       "\\item 'Apioideae'\n",
       "\\item 'Apocynaceae'\n",
       "\\item 'Arabideae'\n",
       "\\item 'Araceae'\n",
       "\\item 'Arecaceae'\n",
       "\\item 'Begonia'\n",
       "\\item 'Bignonieae'\n",
       "\\item 'Bombacoideae'\n",
       "\\item 'Bulbophyllum'\n",
       "\\item 'Cardamineae'\n",
       "\\item 'Carex'\n",
       "\\item 'Chamaecrista'\n",
       "\\item 'Chrysobalanaceae'\n",
       "\\item 'Croton'\n",
       "\\item 'Cyclanthaceae'\n",
       "\\item 'Ericaceae'\n",
       "\\item 'Erysimeae'\n",
       "\\item 'Eucalypts'\n",
       "\\item 'Fagales'\n",
       "\\item 'Ficus'\n",
       "\\item 'Hakea'\n",
       "\\item 'Heliconia'\n",
       "\\item 'Lecythidaceae'\n",
       "\\item 'Lepidieae'\n",
       "\\item 'Lobelioideae'\n",
       "\\item 'Lupinus'\n",
       "\\item 'Lysimachieae'\n",
       "\\item 'Melastomataceae'\n",
       "\\item 'Meliaceae'\n",
       "\\item 'Mimosoids\\_Ringelberg\\_et\\_al\\_2023'\n",
       "\\item 'Myrteae'\n",
       "\\item 'Onagraceae'\n",
       "\\item 'Paepalanthus'\n",
       "\\item 'Poaceae'\n",
       "\\item 'Primulaceae'\n",
       "\\item 'Quercus'\n",
       "\\item 'Restionaceae'\n",
       "\\item 'Ruellia'\n",
       "\\item 'Salvia'\n",
       "\\item 'Solanaceae'\n",
       "\\item 'Spermacoceae'\n",
       "\\item 'Thelypodieae'\n",
       "\\item 'Vanguerieae'\n",
       "\\item 'Velloziaceae'\n",
       "\\item 'Viburnum'\n",
       "\\item 'Vrieseinae'\n",
       "\\end{enumerate*}\n"
      ],
      "text/markdown": [
       "1. 'Allium'\n",
       "2. 'Alysseae'\n",
       "3. 'Anarcardiaceae'\n",
       "4. 'Annonaceae'\n",
       "5. 'Antirrhineae'\n",
       "6. 'Apioideae'\n",
       "7. 'Apocynaceae'\n",
       "8. 'Arabideae'\n",
       "9. 'Araceae'\n",
       "10. 'Arecaceae'\n",
       "11. 'Begonia'\n",
       "12. 'Bignonieae'\n",
       "13. 'Bombacoideae'\n",
       "14. 'Bulbophyllum'\n",
       "15. 'Cardamineae'\n",
       "16. 'Carex'\n",
       "17. 'Chamaecrista'\n",
       "18. 'Chrysobalanaceae'\n",
       "19. 'Croton'\n",
       "20. 'Cyclanthaceae'\n",
       "21. 'Ericaceae'\n",
       "22. 'Erysimeae'\n",
       "23. 'Eucalypts'\n",
       "24. 'Fagales'\n",
       "25. 'Ficus'\n",
       "26. 'Hakea'\n",
       "27. 'Heliconia'\n",
       "28. 'Lecythidaceae'\n",
       "29. 'Lepidieae'\n",
       "30. 'Lobelioideae'\n",
       "31. 'Lupinus'\n",
       "32. 'Lysimachieae'\n",
       "33. 'Melastomataceae'\n",
       "34. 'Meliaceae'\n",
       "35. 'Mimosoids_Ringelberg_et_al_2023'\n",
       "36. 'Myrteae'\n",
       "37. 'Onagraceae'\n",
       "38. 'Paepalanthus'\n",
       "39. 'Poaceae'\n",
       "40. 'Primulaceae'\n",
       "41. 'Quercus'\n",
       "42. 'Restionaceae'\n",
       "43. 'Ruellia'\n",
       "44. 'Salvia'\n",
       "45. 'Solanaceae'\n",
       "46. 'Spermacoceae'\n",
       "47. 'Thelypodieae'\n",
       "48. 'Vanguerieae'\n",
       "49. 'Velloziaceae'\n",
       "50. 'Viburnum'\n",
       "51. 'Vrieseinae'\n",
       "\n",
       "\n"
      ],
      "text/plain": [
       " [1] \"Allium\"                          \"Alysseae\"                       \n",
       " [3] \"Anarcardiaceae\"                  \"Annonaceae\"                     \n",
       " [5] \"Antirrhineae\"                    \"Apioideae\"                      \n",
       " [7] \"Apocynaceae\"                     \"Arabideae\"                      \n",
       " [9] \"Araceae\"                         \"Arecaceae\"                      \n",
       "[11] \"Begonia\"                         \"Bignonieae\"                     \n",
       "[13] \"Bombacoideae\"                    \"Bulbophyllum\"                   \n",
       "[15] \"Cardamineae\"                     \"Carex\"                          \n",
       "[17] \"Chamaecrista\"                    \"Chrysobalanaceae\"               \n",
       "[19] \"Croton\"                          \"Cyclanthaceae\"                  \n",
       "[21] \"Ericaceae\"                       \"Erysimeae\"                      \n",
       "[23] \"Eucalypts\"                       \"Fagales\"                        \n",
       "[25] \"Ficus\"                           \"Hakea\"                          \n",
       "[27] \"Heliconia\"                       \"Lecythidaceae\"                  \n",
       "[29] \"Lepidieae\"                       \"Lobelioideae\"                   \n",
       "[31] \"Lupinus\"                         \"Lysimachieae\"                   \n",
       "[33] \"Melastomataceae\"                 \"Meliaceae\"                      \n",
       "[35] \"Mimosoids_Ringelberg_et_al_2023\" \"Myrteae\"                        \n",
       "[37] \"Onagraceae\"                      \"Paepalanthus\"                   \n",
       "[39] \"Poaceae\"                         \"Primulaceae\"                    \n",
       "[41] \"Quercus\"                         \"Restionaceae\"                   \n",
       "[43] \"Ruellia\"                         \"Salvia\"                         \n",
       "[45] \"Solanaceae\"                      \"Spermacoceae\"                   \n",
       "[47] \"Thelypodieae\"                    \"Vanguerieae\"                    \n",
       "[49] \"Velloziaceae\"                    \"Viburnum\"                       \n",
       "[51] \"Vrieseinae\"                     "
      ]
     },
     "metadata": {},
     "output_type": "display_data"
    }
   ],
   "source": [
    "# plotting\n",
    "# Add row names as a column\n",
    "result_matrix <- as.data.frame(result_matrix)\n",
    "result_matrix$RowNames <- rownames(result_matrix)\n",
    "# Reshape the data from wide to long format\n",
    "result_matrix_long <- result_matrix %>%\n",
    "  pivot_longer(cols = -RowNames, names_to = \"Variable\", values_to = \"Value\")\n",
    "hypo_table_long$Variable <- factor(hypo_table_long$Variable, unique(hypo_table_long$Variable))"
   ]
  }
 ],
 "metadata": {
  "kernelspec": {
   "display_name": "R",
   "language": "R",
   "name": "ir"
  },
  "language_info": {
   "codemirror_mode": "r",
   "file_extension": ".r",
   "mimetype": "text/x-r-source",
   "name": "R",
   "pygments_lexer": "r",
   "version": "4.2.0"
  }
 },
 "nbformat": 4,
 "nbformat_minor": 5
}
